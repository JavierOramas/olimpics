{
 "cells": [
  {
   "cell_type": "code",
   "execution_count": 1,
   "metadata": {},
   "outputs": [],
   "source": [
    "import json\n",
    "import numpy as np\n",
    "#from sklearn.neighbors import KernelDensity\n",
    "import matplotlib.pyplot as plt\n",
    "import scipy.stats as stats\n",
    "import math\n",
    "from sprint_individual_tournament import Cyclist, Tournament\n",
    "from functools import partial\n",
    "%matplotlib inline"
   ]
  },
  {
   "cell_type": "code",
   "execution_count": 2,
   "metadata": {},
   "outputs": [],
   "source": [
    "data = json.load(open('./data/women_sprint.json',encoding=\"utf-8\"))\n",
    "del data['Bronze medal final']\n",
    "del data['Bronze medal race']\n",
    "del data['Gold medal final']\n",
    "del data['Gold medal race']"
   ]
  },
  {
   "cell_type": "code",
   "execution_count": 3,
   "metadata": {
    "tags": []
   },
   "outputs": [],
   "source": [
    "gaps = []\n",
    "behinds = []\n",
    "ciclysts = {}\n",
    "times = []\n",
    "for name,info in data.items():\n",
    "    ciclysts[name]={\n",
    "        'name': name,\n",
    "        'nation': None,\n",
    "        'years': [],\n",
    "        'qualifying': {\n",
    "            'times': [],\n",
    "            'behinds': []\n",
    "        },\n",
    "        'rounds': {\n",
    "            'gaps': []\n",
    "        }\n",
    "    }\n",
    "    for year,yinfo in sorted(info.items(), key=lambda x: x[0]):\n",
    "        ciclysts[name]['years'].append(int(year))\n",
    "        for rinfo in yinfo.values():\n",
    "            if ciclysts[name]['nation'] is None:\n",
    "                ciclysts[name]['nation'] = rinfo['Nation']\n",
    "            if rinfo.get('Gap',None):\n",
    "                try:\n",
    "                    gap = float(rinfo.get('Gap'))\n",
    "                    gaps.append(gap)\n",
    "                    ciclysts[name]['rounds']['gaps'].append(gap)\n",
    "                except ValueError:\n",
    "                    if rinfo.get('Gap')==\"X\":\n",
    "                        ciclysts[name]['rounds']['gaps'].append(0)\n",
    "\n",
    "                if rinfo.get('Race 1'):\n",
    "                    try:\n",
    "                        gap = float(rinfo.get('Race 1'))\n",
    "                        gaps.append(gap)\n",
    "                        ciclysts[name]['rounds']['gaps'].append(gap)\n",
    "                    except ValueError:\n",
    "                        if rinfo.get('Race 1')==\"X\":\n",
    "                            ciclysts[name]['rounds']['gaps'].append(0)\n",
    "\n",
    "                    try:\n",
    "                        gap = float(rinfo.get('Race 2'))\n",
    "                        gaps.append(gap)\n",
    "                        ciclysts[name]['rounds']['gaps'].append(gap)\n",
    "                    except ValueError:\n",
    "                        if rinfo.get('Race 2')==\"X\":\n",
    "                            ciclysts[name]['rounds']['gaps'].append(0)\n",
    "            else:\n",
    "                if rinfo.get('Behind',None):\n",
    "                    try:\n",
    "                        behind = float(rinfo.get('Behind'))\n",
    "                        behinds.append(behind)\n",
    "                        ciclysts[name]['qualifying']['behinds'].append(behind)\n",
    "                    except ValueError:\n",
    "                        pass\n",
    "                if rinfo.get('Time',None):\n",
    "                    try:\n",
    "                        time = float(rinfo.get('Time'))\n",
    "                        times.append(time)\n",
    "                        ciclysts[name]['qualifying']['times'].append(time)\n",
    "                    except ValueError:\n",
    "                        pass\n"
   ]
  },
  {
   "cell_type": "code",
   "execution_count": 4,
   "metadata": {},
   "outputs": [],
   "source": [
    "gaps_m = np.array(list(sorted(gaps))).mean()\n",
    "behinds_m = np.array(list(sorted(behinds))).mean()\n",
    "times_m = np.array(list(sorted(times))).mean()"
   ]
  },
  {
   "cell_type": "code",
   "execution_count": 5,
   "metadata": {},
   "outputs": [],
   "source": [
    "for name in ciclysts.keys():\n",
    "    mu = np.array(ciclysts[name]['qualifying']['times']).mean()\n",
    "    if len(ciclysts[name]['qualifying']['times'])==1:\n",
    "        variance =(behinds_m +np.array(ciclysts[name]['qualifying']['behinds']).mean())/2\n",
    "    else:\n",
    "        variance = np.abs(np.diff(np.array(ciclysts[name]['qualifying']['times']))).mean()\n",
    "    sigma = math.sqrt(variance)\n",
    "    ciclysts[name]['qualifying']['mean']=mu\n",
    "    ciclysts[name]['qualifying']['std']=sigma\n",
    "\n",
    "    mu = times_m\n",
    "    if len(ciclysts[name]['rounds']['gaps'])==0:\n",
    "        variance = 3/2*gaps_m\n",
    "    else:\n",
    "        variance = np.array(ciclysts[name]['rounds']['gaps']).mean()\n",
    "        if len(ciclysts[name]['rounds']['gaps'])==1:\n",
    "            variance = (4/3*gaps_m + variance)/2\n",
    "\n",
    "    sigma = math.sqrt(variance)\n",
    "    ciclysts[name]['rounds']['mean']=mu\n",
    "    ciclysts[name]['rounds']['std']=sigma"
   ]
  },
  {
   "cell_type": "code",
   "execution_count": 6,
   "metadata": {},
   "outputs": [],
   "source": [
    "# generate cyclist time function asumming normal distribution\n",
    "cyclists_i = []\n",
    "for i in ciclysts.values():\n",
    "    qualify_time_function = partial(stats.norm.rvs,i['qualifying']['mean'],i['qualifying']['std'])\n",
    "    round_time_fuction = partial(stats.norm.rvs,i['rounds']['mean'],i['rounds']['std'])\n",
    "    name = i['name']\n",
    "    nation = i['nation']\n",
    "    cyclist = Cyclist(qualify_time_function, round_time_fuction, name, nation)\n",
    "    cyclists_i.append(cyclist)"
   ]
  },
  {
   "cell_type": "code",
   "execution_count": 7,
   "metadata": {},
   "outputs": [],
   "source": [
    "tournament = Tournament(cyclists_i)"
   ]
  },
  {
   "cell_type": "code",
   "execution_count": 8,
   "metadata": {},
   "outputs": [],
   "source": [
    "results = {i.name:[] for i in cyclists_i}\n",
    "nit = 10000"
   ]
  },
  {
   "cell_type": "code",
   "execution_count": 9,
   "metadata": {},
   "outputs": [],
   "source": [
    "# run nit tournaments and save results\n",
    "for i in range(nit):\n",
    "    tournament.run()\n",
    "    res = list(map(lambda x: x.name,tournament.winners))\n",
    "    tournament.reset()\n",
    "    for n,name in enumerate(res):\n",
    "        results[name].append(n)"
   ]
  },
  {
   "cell_type": "code",
   "execution_count": 10,
   "metadata": {},
   "outputs": [],
   "source": [
    "confidences = {}\n",
    "\n",
    "for name, places in results.items():\n",
    "    mean = np.mean(places)\n",
    "    interval = stats.t.interval(0.95, len(places)-1, loc=mean, scale=stats.sem(places))\n",
    "    confidences[name]= {\n",
    "        'mean':mean,\n",
    "        'interval': interval,\n",
    "        'gap': mean-interval[0]\n",
    "    }"
   ]
  },
  {
   "cell_type": "code",
   "execution_count": 11,
   "metadata": {},
   "outputs": [],
   "source": [
    "sorted_cyclists = list(sorted(confidences.items(),key=lambda x: x[1]['mean']))"
   ]
  },
  {
   "cell_type": "code",
   "execution_count": 12,
   "metadata": {},
   "outputs": [],
   "source": [
    "fix_results = {}\n",
    "min_rank = math.floor(sorted_cyclists[0][1]['mean'])\n",
    "for n,(name, data) in enumerate(sorted_cyclists):\n",
    "    rank = int(math.floor(data['mean'])-min_rank) + 1\n",
    "    fix_results[name] = {\n",
    "        'rank': rank,\n",
    "        'gap': data['gap'],\n",
    "        'sorted_rank': n\n",
    "    }"
   ]
  },
  {
   "cell_type": "code",
   "execution_count": 13,
   "metadata": {},
   "outputs": [
    {
     "data": {
      "text/plain": [
       "{'Kristina Vogel': {'rank': 1, 'gap': 0.1662528476859677, 'sorted_rank': 0},\n",
       " 'Stephanie Morton': {'rank': 1, 'gap': 0.18036985086535218, 'sorted_rank': 1},\n",
       " 'Kelsey Mitchell': {'rank': 3, 'gap': 0.24078682478207014, 'sorted_rank': 2},\n",
       " 'Lea Friedrich': {'rank': 4, 'gap': 0.24519831536449388, 'sorted_rank': 3},\n",
       " 'Zhong Tianshi': {'rank': 5, 'gap': 0.26611537836554433, 'sorted_rank': 4},\n",
       " 'Lee Wai Sze': {'rank': 5, 'gap': 0.25027887153280304, 'sorted_rank': 5},\n",
       " 'Miriam Vece': {'rank': 5, 'gap': 0.26179819931557446, 'sorted_rank': 6},\n",
       " 'Sophie Capewell': {'rank': 6, 'gap': 0.27053449838190957, 'sorted_rank': 7},\n",
       " 'Mathilde Gros': {'rank': 6, 'gap': 0.2446307038546074, 'sorted_rank': 8},\n",
       " 'Kaarle McCulloch': {'rank': 6, 'gap': 0.24065460101568448, 'sorted_rank': 9},\n",
       " 'Daria Shmeleva': {'rank': 8, 'gap': 0.25284675295976555, 'sorted_rank': 10},\n",
       " 'Lauriane Genest': {'rank': 8, 'gap': 0.2902992953733694, 'sorted_rank': 11},\n",
       " 'Simona Krupeckaitė': {'rank': 8,\n",
       "  'gap': 0.23960941998878482,\n",
       "  'sorted_rank': 12},\n",
       " 'Jessica Salazar': {'rank': 9, 'gap': 0.30434547787138655, 'sorted_rank': 13},\n",
       " 'Anastasia Voynova': {'rank': 9,\n",
       "  'gap': 0.2700195898521862,\n",
       "  'sorted_rank': 14},\n",
       " 'Pauline Grabosch': {'rank': 9, 'gap': 0.2835365690681577, 'sorted_rank': 15},\n",
       " 'Emma Hinze': {'rank': 10, 'gap': 0.308430878700122, 'sorted_rank': 16},\n",
       " 'Natasha Hansen': {'rank': 10, 'gap': 0.2778299962332369, 'sorted_rank': 17},\n",
       " 'Laurine van Riessen': {'rank': 10,\n",
       "  'gap': 0.28412410096429497,\n",
       "  'sorted_rank': 18},\n",
       " 'Katy Marchant': {'rank': 11, 'gap': 0.28128531362985143, 'sorted_rank': 19},\n",
       " 'Shanne Braspennincx': {'rank': 11,\n",
       "  'gap': 0.30645491585691786,\n",
       "  'sorted_rank': 20},\n",
       " 'Olena Starikova': {'rank': 12, 'gap': 0.2973714115834909, 'sorted_rank': 21},\n",
       " 'Jessica Lee Hoi Yan': {'rank': 12,\n",
       "  'gap': 0.24098200649549995,\n",
       "  'sorted_rank': 22},\n",
       " 'Olivia Podmore': {'rank': 12, 'gap': 0.3178445188826764, 'sorted_rank': 23},\n",
       " 'Riyu Ohta': {'rank': 12, 'gap': 0.3272098992315904, 'sorted_rank': 24},\n",
       " 'Sarah Orban': {'rank': 13, 'gap': 0.33209274797103916, 'sorted_rank': 25},\n",
       " 'Daniela Gaxiola': {'rank': 13, 'gap': 0.3209674623853047, 'sorted_rank': 26},\n",
       " 'Miglė Marozaitė': {'rank': 14, 'gap': 0.2603518859049281, 'sorted_rank': 27},\n",
       " 'Miriam Welte': {'rank': 14, 'gap': 0.3235754092361347, 'sorted_rank': 28},\n",
       " 'Yuka Kobayashi': {'rank': 14, 'gap': 0.30800914238965404, 'sorted_rank': 29},\n",
       " 'Madalyn Godby': {'rank': 15, 'gap': 0.2904274242345828, 'sorted_rank': 30},\n",
       " 'Martha Bayona': {'rank': 16, 'gap': 0.29080437665221837, 'sorted_rank': 31},\n",
       " 'Hetty van de Wouw': {'rank': 16,\n",
       "  'gap': 0.33898477740410016,\n",
       "  'sorted_rank': 32},\n",
       " 'Holly Takos': {'rank': 16, 'gap': 0.3258108859367219, 'sorted_rank': 33},\n",
       " 'Ekaterina Rogovaya': {'rank': 16,\n",
       "  'gap': 0.3442747334279126,\n",
       "  'sorted_rank': 34},\n",
       " 'Tania Calvo': {'rank': 16, 'gap': 0.270899934376974, 'sorted_rank': 35},\n",
       " \"Kate O'Brien\": {'rank': 17, 'gap': 0.3317629614987716, 'sorted_rank': 36},\n",
       " 'Lin Junhong': {'rank': 17, 'gap': 0.24294445230896855, 'sorted_rank': 37},\n",
       " 'Lyubov Basova': {'rank': 18, 'gap': 0.2723076447724928, 'sorted_rank': 38},\n",
       " 'Lee Hye-jin': {'rank': 18, 'gap': 0.22580870254263985, 'sorted_rank': 39},\n",
       " 'Mandy Marquardt': {'rank': 19,\n",
       "  'gap': 0.30411592737249293,\n",
       "  'sorted_rank': 40},\n",
       " 'Nicky Degrendele': {'rank': 20,\n",
       "  'gap': 0.2282854470986848,\n",
       "  'sorted_rank': 41},\n",
       " 'Natalia Antonova': {'rank': 20,\n",
       "  'gap': 0.3431691834213595,\n",
       "  'sorted_rank': 42},\n",
       " 'Emma Cumming': {'rank': 21, 'gap': 0.3421034947942019, 'sorted_rank': 43},\n",
       " 'Marlena Karwacka': {'rank': 22,\n",
       "  'gap': 0.34903246930949194,\n",
       "  'sorted_rank': 44},\n",
       " 'Amelia Walsh': {'rank': 22, 'gap': 0.3408965690051673, 'sorted_rank': 45},\n",
       " 'Guo Yufang': {'rank': 23, 'gap': 0.3443665523908379, 'sorted_rank': 46},\n",
       " 'Charlene du Preez': {'rank': 23,\n",
       "  'gap': 0.34258219166498804,\n",
       "  'sorted_rank': 47},\n",
       " 'Kayono Maeda': {'rank': 24, 'gap': 0.33904186627394495, 'sorted_rank': 48},\n",
       " 'Julita Jagodzińska': {'rank': 24,\n",
       "  'gap': 0.33947100596275703,\n",
       "  'sorted_rank': 49},\n",
       " 'Yuli Verdugo': {'rank': 25, 'gap': 0.3355780543154978, 'sorted_rank': 50},\n",
       " 'Kim Won-gyeong': {'rank': 26, 'gap': 0.3182482012467176, 'sorted_rank': 51},\n",
       " 'Juliana Gaviria': {'rank': 26, 'gap': 0.3297969599367434, 'sorted_rank': 52},\n",
       " 'Robyn Stewart': {'rank': 26, 'gap': 0.10849918237020972, 'sorted_rank': 53},\n",
       " 'Li Yin Yin': {'rank': 28, 'gap': 0.3323061832526193, 'sorted_rank': 54},\n",
       " 'Helena Casas': {'rank': 29, 'gap': 0.3177751651579186, 'sorted_rank': 55},\n",
       " 'Deborah Herold': {'rank': 30, 'gap': 0.3101555294150842, 'sorted_rank': 56},\n",
       " 'Ma Wing Yu': {'rank': 34, 'gap': 0.1410193162642983, 'sorted_rank': 57}}"
      ]
     },
     "execution_count": 13,
     "metadata": {},
     "output_type": "execute_result"
    }
   ],
   "source": [
    "fix_results"
   ]
  },
  {
   "cell_type": "code",
   "execution_count": 14,
   "metadata": {},
   "outputs": [],
   "source": [
    "json.dump(fix_results,open('women_sprint_results.json','w'), indent=2)"
   ]
  },
  {
   "cell_type": "code",
   "execution_count": null,
   "metadata": {},
   "outputs": [],
   "source": []
  }
 ],
 "metadata": {
  "kernelspec": {
   "display_name": "Python 3",
   "language": "python",
   "name": "python3"
  },
  "language_info": {
   "codemirror_mode": {
    "name": "ipython",
    "version": 3
   },
   "file_extension": ".py",
   "mimetype": "text/x-python",
   "name": "python",
   "nbconvert_exporter": "python",
   "pygments_lexer": "ipython3",
   "version": "3.8.5"
  }
 },
 "nbformat": 4,
 "nbformat_minor": 2
}
