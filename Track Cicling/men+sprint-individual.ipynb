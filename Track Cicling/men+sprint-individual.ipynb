{
 "cells": [
  {
   "cell_type": "code",
   "execution_count": 1,
   "metadata": {},
   "outputs": [],
   "source": [
    "import json\n",
    "import numpy as np\n",
    "#from sklearn.neighbors import KernelDensity\n",
    "import matplotlib.pyplot as plt\n",
    "import scipy.stats as stats\n",
    "import math\n",
    "from sprint_individual_tournament import Cyclist, Tournament\n",
    "from functools import partial\n",
    "%matplotlib inline"
   ]
  },
  {
   "cell_type": "code",
   "execution_count": 2,
   "metadata": {},
   "outputs": [],
   "source": [
    "data = json.load(open('./data/men_sprint.json',encoding=\"utf-8\"))\n",
    "del data['Bronze medal final']\n",
    "del data['Bronze medal race']\n",
    "del data['Gold medal final']\n",
    "del data['Gold medal race']"
   ]
  },
  {
   "cell_type": "code",
   "execution_count": 3,
   "metadata": {
    "tags": []
   },
   "outputs": [],
   "source": [
    "gaps = []\n",
    "behinds = []\n",
    "ciclysts = {}\n",
    "times = []\n",
    "for name,info in data.items():\n",
    "    ciclysts[name]={\n",
    "        'name': name,\n",
    "        'nation': None,\n",
    "        'years': [],\n",
    "        'qualifying': {\n",
    "            'times': [],\n",
    "            'behinds': []\n",
    "        },\n",
    "        'rounds': {\n",
    "            'gaps': []\n",
    "        }\n",
    "    }\n",
    "    for year,yinfo in sorted(info.items(), key=lambda x: x[0]):\n",
    "        ciclysts[name]['years'].append(int(year))\n",
    "        for rinfo in yinfo.values():\n",
    "            if ciclysts[name]['nation'] is None:\n",
    "                ciclysts[name]['nation'] = rinfo['Nation']\n",
    "            if rinfo.get('Gap',None):\n",
    "                try:\n",
    "                    gap = float(rinfo.get('Gap'))\n",
    "                    gaps.append(gap)\n",
    "                    ciclysts[name]['rounds']['gaps'].append(gap)\n",
    "                except ValueError:\n",
    "                    if rinfo.get('Gap')==\"X\":\n",
    "                        ciclysts[name]['rounds']['gaps'].append(0)\n",
    "\n",
    "                if rinfo.get('Race 1'):\n",
    "                    try:\n",
    "                        gap = float(rinfo.get('Race 1'))\n",
    "                        gaps.append(gap)\n",
    "                        ciclysts[name]['rounds']['gaps'].append(gap)\n",
    "                    except ValueError:\n",
    "                        if rinfo.get('Race 1')==\"X\":\n",
    "                            ciclysts[name]['rounds']['gaps'].append(0)\n",
    "\n",
    "                    try:\n",
    "                        gap = float(rinfo.get('Race 2'))\n",
    "                        gaps.append(gap)\n",
    "                        ciclysts[name]['rounds']['gaps'].append(gap)\n",
    "                    except ValueError:\n",
    "                        if rinfo.get('Race 2')==\"X\":\n",
    "                            ciclysts[name]['rounds']['gaps'].append(0)\n",
    "            else:\n",
    "                if rinfo.get('Behind',None):\n",
    "                    try:\n",
    "                        behind = float(rinfo.get('Behind'))\n",
    "                        behinds.append(behind)\n",
    "                        ciclysts[name]['qualifying']['behinds'].append(behind)\n",
    "                    except ValueError:\n",
    "                        pass\n",
    "                if rinfo.get('Time',None):\n",
    "                    try:\n",
    "                        time = float(rinfo.get('Time'))\n",
    "                        times.append(time)\n",
    "                        ciclysts[name]['qualifying']['times'].append(time)\n",
    "                    except ValueError:\n",
    "                        pass\n"
   ]
  },
  {
   "cell_type": "code",
   "execution_count": 4,
   "metadata": {},
   "outputs": [],
   "source": [
    "gaps_m = np.array(list(sorted(gaps))).mean()\n",
    "behinds_m = np.array(list(sorted(behinds))).mean()\n",
    "times_m = np.array(list(sorted(times))).mean()"
   ]
  },
  {
   "cell_type": "code",
   "execution_count": 5,
   "metadata": {},
   "outputs": [],
   "source": [
    "for name in ciclysts.keys():\n",
    "    mu = np.array(ciclysts[name]['qualifying']['times']).mean()\n",
    "    if len(ciclysts[name]['qualifying']['times'])==1:\n",
    "        variance =(behinds_m +np.array(ciclysts[name]['qualifying']['behinds']).mean())/2\n",
    "    else:\n",
    "        variance = np.abs(np.diff(np.array(ciclysts[name]['qualifying']['times']))).mean()\n",
    "    sigma = math.sqrt(variance)\n",
    "    ciclysts[name]['qualifying']['mean']=mu\n",
    "    ciclysts[name]['qualifying']['std']=sigma\n",
    "\n",
    "    mu = times_m\n",
    "    if len(ciclysts[name]['rounds']['gaps'])==0:\n",
    "        variance = 3/2*gaps_m\n",
    "    else:\n",
    "        variance = np.array(ciclysts[name]['rounds']['gaps']).mean()\n",
    "        if len(ciclysts[name]['rounds']['gaps'])==1:\n",
    "            variance = (4/3*gaps_m + variance)/2\n",
    "\n",
    "    sigma = math.sqrt(variance)\n",
    "    ciclysts[name]['rounds']['mean']=mu\n",
    "    ciclysts[name]['rounds']['std']=sigma"
   ]
  },
  {
   "cell_type": "code",
   "execution_count": 6,
   "metadata": {},
   "outputs": [],
   "source": [
    "# generate cyclist time function asumming normal distribution\n",
    "cyclists_i = []\n",
    "for i in ciclysts.values():\n",
    "    qualify_time_function = partial(stats.norm.rvs,i['qualifying']['mean'],i['qualifying']['std'])\n",
    "    round_time_fuction = partial(stats.norm.rvs,i['rounds']['mean'],i['rounds']['std'])\n",
    "    name = i['name']\n",
    "    nation = i['nation']\n",
    "    cyclist = Cyclist(qualify_time_function, round_time_fuction, name, nation)\n",
    "    cyclists_i.append(cyclist)"
   ]
  },
  {
   "cell_type": "code",
   "execution_count": 7,
   "metadata": {},
   "outputs": [],
   "source": [
    "tournament = Tournament(cyclists_i)"
   ]
  },
  {
   "cell_type": "code",
   "execution_count": 8,
   "metadata": {},
   "outputs": [],
   "source": [
    "results = {i.name:[] for i in cyclists_i}\n",
    "nit = 10000"
   ]
  },
  {
   "cell_type": "code",
   "execution_count": null,
   "metadata": {},
   "outputs": [],
   "source": [
    "# run nit tournaments and save results\n",
    "for i in range(nit):\n",
    "    tournament.run()\n",
    "    res = list(map(lambda x: x.name,tournament.winners))\n",
    "    tournament.reset()\n",
    "    for n,name in enumerate(res):\n",
    "        results[name].append(n)"
   ]
  },
  {
   "cell_type": "code",
   "execution_count": null,
   "metadata": {},
   "outputs": [],
   "source": [
    "confidences = {}\n",
    "\n",
    "for name, places in results.items():\n",
    "    mean = np.mean(places)\n",
    "    interval = stats.t.interval(0.95, len(places)-1, loc=mean, scale=stats.sem(places))\n",
    "    confidences[name]= {\n",
    "        'mean':mean,\n",
    "        'interval': interval,\n",
    "        'gap': mean-interval[0]\n",
    "    }"
   ]
  },
  {
   "cell_type": "code",
   "execution_count": null,
   "metadata": {},
   "outputs": [],
   "source": [
    "sorted_cyclists = list(sorted(confidences.items(),key=lambda x: x[1]['mean']))"
   ]
  },
  {
   "cell_type": "code",
   "execution_count": null,
   "metadata": {},
   "outputs": [],
   "source": [
    "fix_results = {}\n",
    "min_rank = math.floor(sorted_cyclists[0][1]['mean'])\n",
    "for n,(name, data) in enumerate(sorted_cyclists):\n",
    "    rank = int(math.floor(data['mean'])-min_rank) + 1\n",
    "    fix_results[name] = {\n",
    "        'rank': rank,\n",
    "        'gap': data['gap'],\n",
    "        'sorted_rank': n\n",
    "    }"
   ]
  },
  {
   "cell_type": "code",
   "execution_count": null,
   "metadata": {},
   "outputs": [],
   "source": [
    "fix_results"
   ]
  },
  {
   "cell_type": "code",
   "execution_count": null,
   "metadata": {},
   "outputs": [],
   "source": [
    "json.dump(fix_results,open('men_sprint_results.json','w'), indent=2)"
   ]
  },
  {
   "cell_type": "code",
   "execution_count": null,
   "metadata": {},
   "outputs": [],
   "source": []
  }
 ],
 "metadata": {
  "kernelspec": {
   "display_name": "Python 3",
   "language": "python",
   "name": "python3"
  },
  "language_info": {
   "codemirror_mode": {
    "name": "ipython",
    "version": 3
   },
   "file_extension": ".py",
   "mimetype": "text/x-python",
   "name": "python",
   "nbconvert_exporter": "python",
   "pygments_lexer": "ipython3",
   "version": "3.8.5"
  }
 },
 "nbformat": 4,
 "nbformat_minor": 2
}
