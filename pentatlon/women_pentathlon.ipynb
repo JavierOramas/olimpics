{
 "cells": [
  {
   "cell_type": "code",
   "execution_count": 1,
   "metadata": {},
   "outputs": [],
   "source": [
    "import json\n",
    "from simulator import Athlete, Simulator\n",
    "from sklearn.neighbors import KernelDensity\n",
    "import numpy as np\n",
    "import matplotlib\n",
    "import matplotlib.pyplot as plt\n",
    "import scipy.stats as stats\n",
    "import math\n",
    "from functools import partial\n",
    "%matplotlib inline"
   ]
  },
  {
   "cell_type": "code",
   "execution_count": 2,
   "metadata": {},
   "outputs": [],
   "source": [
    "athletes_data = json.load(open('data-women.json'))"
   ]
  },
  {
   "cell_type": "code",
   "execution_count": 3,
   "metadata": {},
   "outputs": [],
   "source": [
    "def get_sample(func):\n",
    "    return func()[0][0]"
   ]
  },
  {
   "cell_type": "code",
   "execution_count": 4,
   "metadata": {},
   "outputs": [],
   "source": [
    "athletes = []\n",
    "for i,j in athletes_data.items():\n",
    "    vals = np.array(j ['fencing'])[:,np.newaxis]\n",
    "    kde  = KernelDensity(bandwidth=0.05).fit(vals)\n",
    "    fencing = partial(get_sample,kde.sample)\n",
    "    vals = np.array(j ['swiming'])[:,np.newaxis]\n",
    "    kde2  = KernelDensity(bandwidth=1).fit(vals)\n",
    "    swiming = partial(get_sample,kde2.sample)\n",
    "    vals = np.array(j ['laser-run'])[:,np.newaxis]\n",
    "    kde3  = KernelDensity(bandwidth=5).fit(vals)\n",
    "    laser_run = partial(get_sample,kde3.sample)\n",
    "    vals = np.array(j ['riding'])[:,np.newaxis]\n",
    "    kde4  = KernelDensity(bandwidth=10).fit(vals)\n",
    "    riding = partial(get_sample,kde3.sample)\n",
    "    athlete = Athlete(i,fencing,swiming,riding,laser_run)\n",
    "    athletes.append(athlete)"
   ]
  },
  {
   "cell_type": "code",
   "execution_count": 5,
   "metadata": {},
   "outputs": [],
   "source": [
    "tournament = Simulator(athletes)"
   ]
  },
  {
   "cell_type": "code",
   "execution_count": 6,
   "metadata": {},
   "outputs": [],
   "source": [
    "#tournament.run()"
   ]
  },
  {
   "cell_type": "code",
   "execution_count": 7,
   "metadata": {},
   "outputs": [],
   "source": [
    "#res = list(map(lambda x: x.name,tournament.winners))\n",
    "#for i in tournament.winners:\n",
    "#    print(i.name,i.points, i.time, i.handicapTime)"
   ]
  },
  {
   "cell_type": "code",
   "execution_count": 8,
   "metadata": {},
   "outputs": [],
   "source": [
    "#tournament.reset()"
   ]
  },
  {
   "cell_type": "code",
   "execution_count": 9,
   "metadata": {},
   "outputs": [],
   "source": [
    "results = {i.name:[] for i in athletes}\n",
    "nsim = 10000"
   ]
  },
  {
   "cell_type": "code",
   "execution_count": 10,
   "metadata": {},
   "outputs": [],
   "source": [
    "for i in range(nsim):\n",
    "    tournament.run()\n",
    "    res = list(map(lambda x: x.name,tournament.winners))\n",
    "    tournament.reset()\n",
    "    for n,name in enumerate(res):\n",
    "        results[name].append(n)"
   ]
  },
  {
   "cell_type": "code",
   "execution_count": 24,
   "metadata": {},
   "outputs": [],
   "source": [
    "confidences = {}\n",
    "\n",
    "for name, places in results.items():\n",
    "    mean = np.mean(places)\n",
    "    interval = stats.t.interval(0.95, len(places)-1, loc=mean, scale=stats.sem(places))\n",
    "    confidences[name]= {\n",
    "        'mean':mean,\n",
    "        'interval': interval,\n",
    "        'gap': mean-interval[0]\n",
    "    }"
   ]
  },
  {
   "cell_type": "code",
   "execution_count": 25,
   "metadata": {},
   "outputs": [],
   "source": [
    "sorted_athletes = list(sorted(confidences.items(),key=lambda x: x[1]['mean']))"
   ]
  },
  {
   "cell_type": "code",
   "execution_count": 26,
   "metadata": {},
   "outputs": [],
   "source": [
    "fix_results = {}\n",
    "min_rank = math.floor(sorted_athletes[0][1]['mean'])\n",
    "for n,(name, data) in enumerate(sorted_athletes):\n",
    "    rank = data['mean']-min_rank + 1\n",
    "    fix_results[name] = {\n",
    "        'rank': rank,\n",
    "        'gap': data['gap'],\n",
    "        'sorted_rank': n,\n",
    "        'nation': athletes_data[name]['nation']\n",
    "    }"
   ]
  },
  {
   "cell_type": "code",
   "execution_count": 27,
   "metadata": {},
   "outputs": [],
   "source": [
    "json.dump(fix_results,open('women_pentathlon.json','w'), indent=2)"
   ]
  },
  {
   "cell_type": "code",
   "execution_count": 28,
   "metadata": {},
   "outputs": [
    {
     "data": {
      "text/plain": [
       "8"
      ]
     },
     "execution_count": 28,
     "metadata": {},
     "output_type": "execute_result"
    }
   ],
   "source": [
    "min_rank"
   ]
  },
  {
   "cell_type": "code",
   "execution_count": 17,
   "metadata": {},
   "outputs": [
    {
     "data": {
      "text/plain": [
       "[('oteiza marie',\n",
       "  {'mean': 8.6804,\n",
       "   'interval': (8.528935885810242, 8.83186411418976),\n",
       "   'gap': 0.1514641141897588}),\n",
       " ('silkina volha',\n",
       "  {'mean': 9.1018,\n",
       "   'interval': (8.945615147067953, 9.257984852932049),\n",
       "   'gap': 0.1561848529320482}),\n",
       " ('kovacs sarolta',\n",
       "  {'mean': 9.2451,\n",
       "   'interval': (9.156190916253266, 9.334009083746736),\n",
       "   'gap': 0.08890908374673501}),\n",
       " ('clouvel elodie',\n",
       "  {'mean': 9.4212,\n",
       "   'interval': (9.27465377544446, 9.567746224555542),\n",
       "   'gap': 0.14654622455554112}),\n",
       " ('french kate',\n",
       "  {'mean': 9.596,\n",
       "   'interval': (9.42678087997711, 9.76521912002289),\n",
       "   'gap': 0.1692191200228894}),\n",
       " ('muir joanna',\n",
       "  {'mean': 9.7352,\n",
       "   'interval': (9.597130232291752, 9.87326976770825),\n",
       "   'gap': 0.13806976770824875}),\n",
       " ('prokopenko anastasiya',\n",
       "  {'mean': 9.9421,\n",
       "   'interval': (9.784339932367523, 10.099860067632477),\n",
       "   'gap': 0.15776006763247707}),\n",
       " ('gulyas michelle',\n",
       "  {'mean': 10.3547,\n",
       "   'interval': (10.163170546112855, 10.546229453887143),\n",
       "   'gap': 0.19152945388714393}),\n",
       " ('micheli elena',\n",
       "  {'mean': 12.2978,\n",
       "   'interval': (12.091234013066225, 12.504365986933776),\n",
       "   'gap': 0.20656598693377504}),\n",
       " ('zhang mingyu',\n",
       "  {'mean': 12.4485,\n",
       "   'interval': (12.26336766314479, 12.633632336855209),\n",
       "   'gap': 0.1851323368552098}),\n",
       " ('schleu annika',\n",
       "  {'mean': 13.1706,\n",
       "   'interval': (13.011481774825842, 13.329718225174158),\n",
       "   'gap': 0.15911822517415786}),\n",
       " ('coyle natalya',\n",
       "  {'mean': 13.2924,\n",
       "   'interval': (13.13305925549965, 13.451740744500352),\n",
       "   'gap': 0.1593407445003514}),\n",
       " ('zhang xiaonan',\n",
       "  {'mean': 13.9363,\n",
       "   'interval': (13.754387773132287, 14.118212226867712),\n",
       "   'gap': 0.1819122268677127}),\n",
       " ('sotero alice',\n",
       "  {'mean': 14.0222,\n",
       "   'interval': (13.85130360105228, 14.19309639894772),\n",
       "   'gap': 0.17089639894772013}),\n",
       " ('shimazu rena',\n",
       "  {'mean': 15.7495,\n",
       "   'interval': (15.593166224821752, 15.905833775178246),\n",
       "   'gap': 0.15633377517824698}),\n",
       " ('gubaydullina gulnaz',\n",
       "  {'mean': 15.7717,\n",
       "   'interval': (15.613540921806171, 15.929859078193827),\n",
       "   'gap': 0.1581590781938278}),\n",
       " ('langrehr rebecca',\n",
       "  {'mean': 15.7588,\n",
       "   'interval': (15.586774358441218, 15.930825641558783),\n",
       "   'gap': 0.17202564155878264}),\n",
       " ('kandil amira',\n",
       "  {'mean': 15.9104,\n",
       "   'interval': (15.743549196260336, 16.077250803739663),\n",
       "   'gap': 0.16685080373966343}),\n",
       " ('venckauskaite gintare',\n",
       "  {'mean': 16.7542,\n",
       "   'interval': (16.569906028520606, 16.938493971479396),\n",
       "   'gap': 0.18429397147939497}),\n",
       " ('moya leidis laura',\n",
       "  {'mean': 18.0926,\n",
       "   'interval': (17.87815524186534, 18.307044758134662),\n",
       "   'gap': 0.21444475813466113}),\n",
       " ('asadauskaite laura',\n",
       "  {'mean': 18.3092,\n",
       "   'interval': (18.103751287326805, 18.514648712673196),\n",
       "   'gap': 0.20544871267319564}),\n",
       " ('arceo mariana',\n",
       "  {'mean': 18.4547,\n",
       "   'interval': (18.28134774315784, 18.628052256842157),\n",
       "   'gap': 0.17335225684215771}),\n",
       " ('potapenko elena',\n",
       "  {'mean': 19.0822,\n",
       "   'interval': (18.926686549416363, 19.237713450583637),\n",
       "   'gap': 0.15551345058363708}),\n",
       " ('oliver mayan',\n",
       "  {'mean': 19.6416,\n",
       "   'interval': (19.465077308901414, 19.818122691098587),\n",
       "   'gap': 0.17652269109858665}),\n",
       " ('ozyuksel ilke',\n",
       "  {'mean': 19.7418,\n",
       "   'interval': (19.576786653787234, 19.90681334621277),\n",
       "   'gap': 0.16501334621276698}),\n",
       " ('kim sunwoo',\n",
       "  {'mean': 20.6806,\n",
       "   'interval': (20.529569678994626, 20.83163032100537),\n",
       "   'gap': 0.15103032100537206}),\n",
       " ('morsy haydy',\n",
       "  {'mean': 21.2034,\n",
       "   'interval': (21.02518838650755, 21.381611613492446),\n",
       "   'gap': 0.17821161349244719}),\n",
       " ('kim sehee',\n",
       "  {'mean': 22.4108,\n",
       "   'interval': (22.27752178573527, 22.544078214264726),\n",
       "   'gap': 0.13327821426472752}),\n",
       " ('maliszewska anna',\n",
       "  {'mean': 22.6233,\n",
       "   'interval': (22.478412800028735, 22.768187199971265),\n",
       "   'gap': 0.1448871999712651}),\n",
       " ('batashova uliana',\n",
       "  {'mean': 22.8886,\n",
       "   'interval': (22.760418324833868, 23.016781675166133),\n",
       "   'gap': 0.12818167516613244}),\n",
       " ('takamiya natsumi',\n",
       "  {'mean': 23.4567,\n",
       "   'interval': (23.310415530962775, 23.602984469037228),\n",
       "   'gap': 0.14628446903722647}),\n",
       " ('fakhrutdinova alise',\n",
       "  {'mean': 25.3072,\n",
       "   'interval': (25.16362199022752, 25.450778009772485),\n",
       "   'gap': 0.14357800977248303}),\n",
       " ('chaves guimaraes maria ieda',\n",
       "  {'mean': 27.6998,\n",
       "   'interval': (27.62518780589354, 27.77441219410646),\n",
       "   'gap': 0.0746121941064608}),\n",
       " ('schultz samantha',\n",
       "  {'mean': 28.6242,\n",
       "   'interval': (28.53761516658538, 28.710784833414618),\n",
       "   'gap': 0.08658483341461931}),\n",
       " ('carrier marina',\n",
       "  {'mean': 31.9791,\n",
       "   'interval': (31.935014341423297, 32.0231856585767),\n",
       "   'gap': 0.04408565857670155}),\n",
       " ('cuaspud marcela',\n",
       "  {'mean': 34.6153,\n",
       "   'interval': (34.59710713510933, 34.63349286489066),\n",
       "   'gap': 0.01819286489066485})]"
      ]
     },
     "execution_count": 17,
     "metadata": {},
     "output_type": "execute_result"
    }
   ],
   "source": [
    "sorted_athletes"
   ]
  },
  {
   "cell_type": "code",
   "execution_count": null,
   "metadata": {},
   "outputs": [],
   "source": []
  }
 ],
 "metadata": {
  "kernelspec": {
   "display_name": "Python 3",
   "language": "python",
   "name": "python3"
  },
  "language_info": {
   "codemirror_mode": {
    "name": "ipython",
    "version": 3
   },
   "file_extension": ".py",
   "mimetype": "text/x-python",
   "name": "python",
   "nbconvert_exporter": "python",
   "pygments_lexer": "ipython3",
   "version": "3.8.5"
  }
 },
 "nbformat": 4,
 "nbformat_minor": 4
}
