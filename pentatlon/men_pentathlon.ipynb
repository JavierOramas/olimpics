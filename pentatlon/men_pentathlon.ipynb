{
 "cells": [
  {
   "cell_type": "code",
   "execution_count": 1,
   "metadata": {},
   "outputs": [],
   "source": [
    "import json\n",
    "from simulator import Athlete, Simulator\n",
    "from sklearn.neighbors import KernelDensity\n",
    "import numpy as np\n",
    "import matplotlib\n",
    "import matplotlib.pyplot as plt\n",
    "import scipy.stats as stats\n",
    "import math\n",
    "from functools import partial\n",
    "%matplotlib inline"
   ]
  },
  {
   "cell_type": "code",
   "execution_count": 2,
   "metadata": {},
   "outputs": [],
   "source": [
    "athletes_data = json.load(open('data.json'))"
   ]
  },
  {
   "cell_type": "code",
   "execution_count": 3,
   "metadata": {},
   "outputs": [],
   "source": [
    "def get_sample(func):\n",
    "    return func()[0][0]"
   ]
  },
  {
   "cell_type": "code",
   "execution_count": 4,
   "metadata": {},
   "outputs": [],
   "source": [
    "athletes = []\n",
    "for i,j in athletes_data.items():\n",
    "    vals = np.array(j ['fencing'])[:,np.newaxis]\n",
    "    kde  = KernelDensity(bandwidth=0.05).fit(vals)\n",
    "    fencing = partial(get_sample,kde.sample)\n",
    "    vals = np.array(j ['swiming'])[:,np.newaxis]\n",
    "    kde2  = KernelDensity(bandwidth=1).fit(vals)\n",
    "    swiming = partial(get_sample,kde2.sample)\n",
    "    vals = np.array(j ['laser-run'])[:,np.newaxis]\n",
    "    kde3  = KernelDensity(bandwidth=5).fit(vals)\n",
    "    laser_run = partial(get_sample,kde3.sample)\n",
    "    vals = np.array(j ['riding'])[:,np.newaxis]\n",
    "    kde4  = KernelDensity(bandwidth=10).fit(vals)\n",
    "    riding = partial(get_sample,kde3.sample)\n",
    "    athlete = Athlete(i,fencing,swiming,riding,laser_run)\n",
    "    athletes.append(athlete)"
   ]
  },
  {
   "cell_type": "code",
   "execution_count": 5,
   "metadata": {},
   "outputs": [],
   "source": [
    "tournament = Simulator(athletes)"
   ]
  },
  {
   "cell_type": "code",
   "execution_count": 6,
   "metadata": {},
   "outputs": [],
   "source": [
    "#tournament.run()"
   ]
  },
  {
   "cell_type": "code",
   "execution_count": 7,
   "metadata": {},
   "outputs": [],
   "source": [
    "#res = list(map(lambda x: x.name,tournament.winners))\n",
    "#for i in tournament.winners:\n",
    "#    print(i.name,i.points, i.time, i.handicapTime)"
   ]
  },
  {
   "cell_type": "code",
   "execution_count": 8,
   "metadata": {},
   "outputs": [],
   "source": [
    "#tournament.reset()"
   ]
  },
  {
   "cell_type": "code",
   "execution_count": 9,
   "metadata": {},
   "outputs": [],
   "source": [
    "results = {i.name:[] for i in athletes}\n",
    "nsim = 10000"
   ]
  },
  {
   "cell_type": "code",
   "execution_count": 10,
   "metadata": {},
   "outputs": [],
   "source": [
    "for i in range(nsim):\n",
    "    tournament.run()\n",
    "    res = list(map(lambda x: x.name,tournament.winners))\n",
    "    tournament.reset()\n",
    "    for n,name in enumerate(res):\n",
    "        results[name].append(n)"
   ]
  },
  {
   "cell_type": "code",
   "execution_count": 11,
   "metadata": {},
   "outputs": [],
   "source": [
    "confidences = {}\n",
    "\n",
    "for name, places in results.items():\n",
    "    mean = np.mean(places)\n",
    "    interval = stats.t.interval(0.95, len(places)-1, loc=mean, scale=stats.sem(places))\n",
    "    confidences[name]= {\n",
    "        'mean':mean,\n",
    "        'interval': interval,\n",
    "        'gap': mean-interval[0]\n",
    "    }"
   ]
  },
  {
   "cell_type": "code",
   "execution_count": 12,
   "metadata": {},
   "outputs": [],
   "source": [
    "sorted_athletes = list(sorted(confidences.items(),key=lambda x: x[1]['mean']+x[1]['gap']))"
   ]
  },
  {
   "cell_type": "code",
   "execution_count": 19,
   "metadata": {},
   "outputs": [],
   "source": [
    "fix_results = {}\n",
    "min_rank = math.floor(sorted_athletes[0][1]['mean'])\n",
    "for n,(name, data) in enumerate(sorted_athletes):\n",
    "    rank = data['mean']-min_rank + 1\n",
    "    fix_results[name] = {\n",
    "        'rank': rank,\n",
    "        'gap': data['gap'],\n",
    "        'sorted_rank': n,\n",
    "        'nation': athletes_data[name]['nation']\n",
    "    }"
   ]
  },
  {
   "cell_type": "code",
   "execution_count": 20,
   "metadata": {},
   "outputs": [],
   "source": [
    "json.dump(fix_results,open('men_pentathlon.json','w'), indent=2)"
   ]
  },
  {
   "cell_type": "code",
   "execution_count": 21,
   "metadata": {},
   "outputs": [
    {
     "data": {
      "text/plain": [
       "[('palazkov ilya',\n",
       "  {'mean': 8.1334,\n",
       "   'interval': (8.000881442303916, 8.265918557696084),\n",
       "   'gap': 0.13251855769608412}),\n",
       " ('luo shuai',\n",
       "  {'mean': 10.5182,\n",
       "   'interval': (10.343759721255468, 10.692640278744532),\n",
       "   'gap': 0.17444027874453205}),\n",
       " ('choong joseph',\n",
       "  {'mean': 10.6256,\n",
       "   'interval': (10.458962771320554, 10.792237228679447),\n",
       "   'gap': 0.16663722867944664}),\n",
       " ('elgendy ahmed',\n",
       "  {'mean': 11.1505,\n",
       "   'interval': (10.963520071975676, 11.337479928024322),\n",
       "   'gap': 0.18697992802432317}),\n",
       " ('gustenau gustav',\n",
       "  {'mean': 11.874,\n",
       "   'interval': (11.711691334316866, 12.036308665683135),\n",
       "   'gap': 0.16230866568313473}),\n",
       " ('vlach martin',\n",
       "  {'mean': 12.1817,\n",
       "   'interval': (12.006953326385663, 12.356446673614336),\n",
       "   'gap': 0.1747466736143366}),\n",
       " ('belaud valentin',\n",
       "  {'mean': 12.2937,\n",
       "   'interval': (12.093130017085095, 12.494269982914904),\n",
       "   'gap': 0.2005699829149048}),\n",
       " ('prades valentin',\n",
       "  {'mean': 12.6501,\n",
       "   'interval': (12.481185809978177, 12.819014190021823),\n",
       "   'gap': 0.16891419002182317}),\n",
       " ('bustos esteban',\n",
       "  {'mean': 13.8051,\n",
       "   'interval': (13.611921567612026, 13.998278432387973),\n",
       "   'gap': 0.19317843238797394}),\n",
       " ('fernandez charles',\n",
       "  {'mean': 14.4212,\n",
       "   'interval': (14.237447699341178, 14.604952300658823),\n",
       "   'gap': 0.18375230065882242}),\n",
       " ('marosi adam',\n",
       "  {'mean': 14.5692,\n",
       "   'interval': (14.371896280174974, 14.766503719825026),\n",
       "   'gap': 0.19730371982502604}),\n",
       " ('cooke james',\n",
       "  {'mean': 14.8812,\n",
       "   'interval': (14.682712861976539, 15.079687138023461),\n",
       "   'gap': 0.19848713802346118}),\n",
       " ('li shuhuan',\n",
       "  {'mean': 15.0776,\n",
       "   'interval': (14.892316790319656, 15.262883209680345),\n",
       "   'gap': 0.18528320968034429}),\n",
       " ('jun woongtae',\n",
       "  {'mean': 15.2147,\n",
       "   'interval': (15.034880812097756, 15.394519187902246),\n",
       "   'gap': 0.17981918790224505}),\n",
       " ('dogue patrick',\n",
       "  {'mean': 15.7996,\n",
       "   'interval': (15.626030536571088, 15.973169463428912),\n",
       "   'gap': 0.17356946342891177}),\n",
       " ('kuf jan',\n",
       "  {'mean': 15.9239,\n",
       "   'interval': (15.739917052396473, 16.107882947603528),\n",
       "   'gap': 0.18398294760352663}),\n",
       " ('liebig fabian',\n",
       "  {'mean': 16.6946,\n",
       "   'interval': (16.480655509587066, 16.908544490412936),\n",
       "   'gap': 0.21394449041293484}),\n",
       " ('villamayor sergio',\n",
       "  {'mean': 17.2427,\n",
       "   'interval': (17.035501469224535, 17.449898530775464),\n",
       "   'gap': 0.20719853077546446}),\n",
       " ('ders lester',\n",
       "  {'mean': 17.3129,\n",
       "   'interval': (17.10639738649817, 17.51940261350183),\n",
       "   'gap': 0.2065026135018293}),\n",
       " ('kasza robert',\n",
       "  {'mean': 17.4737,\n",
       "   'interval': (17.279398137133622, 17.66800186286638),\n",
       "   'gap': 0.19430186286637863}),\n",
       " ('jung jinhwa',\n",
       "  {'mean': 18.0252,\n",
       "   'interval': (17.830136760990705, 18.2202632390093),\n",
       "   'gap': 0.195063239009297}),\n",
       " ('fernon edward',\n",
       "  {'mean': 18.311,\n",
       "   'interval': (18.18255195391728, 18.43944804608272),\n",
       "   'gap': 0.12844804608272042}),\n",
       " ('hamed ahmed',\n",
       "  {'mean': 18.469,\n",
       "   'interval': (18.283738713005643, 18.65426128699436),\n",
       "   'gap': 0.18526128699435773}),\n",
       " ('heredia vives aleix',\n",
       "  {'mean': 18.8026,\n",
       "   'interval': (18.611837160829996, 18.993362839170008),\n",
       "   'gap': 0.1907628391700058}),\n",
       " ('ilyashenko pavel',\n",
       "  {'mean': 19.5373,\n",
       "   'interval': (19.362374059555837, 19.71222594044416),\n",
       "   'gap': 0.17492594044416165}),\n",
       " ('iwamoto shohei',\n",
       "  {'mean': 20.3927,\n",
       "   'interval': (20.150586065965072, 20.63481393403493),\n",
       "   'gap': 0.2421139340349292}),\n",
       " ('lifanov alexander',\n",
       "  {'mean': 21.2429,\n",
       "   'interval': (21.04462534573903, 21.44117465426097),\n",
       "   'gap': 0.19827465426097035}),\n",
       " ('kinderis justinas',\n",
       "  {'mean': 21.8919,\n",
       "   'interval': (21.722419668102127, 22.061380331897873),\n",
       "   'gap': 0.16948033189787282}),\n",
       " ('svecovs pavels',\n",
       "  {'mean': 22.6594,\n",
       "   'interval': (22.445868970002874, 22.87293102999713),\n",
       "   'gap': 0.21353102999712803}),\n",
       " ('gutkowski lukasz',\n",
       "  {'mean': 23.2187,\n",
       "   'interval': (23.052616172260045, 23.384783827739952),\n",
       "   'gap': 0.16608382773995345}),\n",
       " ('stasiak sebastian',\n",
       "  {'mean': 23.8461,\n",
       "   'interval': (23.697086286691672, 23.995113713308328),\n",
       "   'gap': 0.14901371330832802}),\n",
       " ('carrillo duilio',\n",
       "  {'mean': 24.2268,\n",
       "   'interval': (24.059809927266205, 24.393790072733797),\n",
       "   'gap': 0.16699007273379607}),\n",
       " ('tymoshchenko pavlo',\n",
       "  {'mean': 24.4083,\n",
       "   'interval': (24.269687861456273, 24.54691213854373),\n",
       "   'gap': 0.13861213854372778}),\n",
       " ('sandoval alvaro',\n",
       "  {'mean': 25.3676,\n",
       "   'interval': (25.244255155560655, 25.490944844439344),\n",
       "   'gap': 0.12334484443934457}),\n",
       " ('elgeziry amro',\n",
       "  {'mean': 25.4944,\n",
       "   'interval': (25.333966097626803, 25.654833902373195),\n",
       "   'gap': 0.160433902373196}),\n",
       " ('savkin alexander',\n",
       "  {'mean': 26.2625,\n",
       "   'interval': (26.118974504020986, 26.406025495979012),\n",
       "   'gap': 0.14352549597901287})]"
      ]
     },
     "execution_count": 21,
     "metadata": {},
     "output_type": "execute_result"
    }
   ],
   "source": [
    "sorted_athletes"
   ]
  },
  {
   "cell_type": "code",
   "execution_count": null,
   "metadata": {},
   "outputs": [],
   "source": []
  }
 ],
 "metadata": {
  "kernelspec": {
   "display_name": "Python 3",
   "language": "python",
   "name": "python3"
  },
  "language_info": {
   "codemirror_mode": {
    "name": "ipython",
    "version": 3
   },
   "file_extension": ".py",
   "mimetype": "text/x-python",
   "name": "python",
   "nbconvert_exporter": "python",
   "pygments_lexer": "ipython3",
   "version": "3.8.5"
  }
 },
 "nbformat": 4,
 "nbformat_minor": 4
}
