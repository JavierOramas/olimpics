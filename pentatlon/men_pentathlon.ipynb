{
 "cells": [
  {
   "cell_type": "code",
   "execution_count": 1,
   "metadata": {},
   "outputs": [],
   "source": [
    "import json\n",
    "from simulator import Athlete, Simulator\n",
    "from sklearn.neighbors import KernelDensity\n",
    "import numpy as np\n",
    "import matplotlib\n",
    "import matplotlib.pyplot as plt\n",
    "import scipy.stats as stats\n",
    "import math\n",
    "from functools import partial\n",
    "%matplotlib inline"
   ]
  },
  {
   "cell_type": "code",
   "execution_count": 2,
   "metadata": {},
   "outputs": [],
   "source": [
    "athletes_data = json.load(open('data.json'))"
   ]
  },
  {
   "cell_type": "code",
   "execution_count": 3,
   "metadata": {},
   "outputs": [],
   "source": [
    "def get_sample(func):\n",
    "    return func()[0][0]"
   ]
  },
  {
   "cell_type": "code",
   "execution_count": 4,
   "metadata": {},
   "outputs": [],
   "source": [
    "athletes = []\n",
    "for i,j in athletes_data.items():\n",
    "    vals = np.array(j ['fencing'])[:,np.newaxis]\n",
    "    kde  = KernelDensity(bandwidth=0.05).fit(vals)\n",
    "    fencing = partial(get_sample,kde.sample)\n",
    "    vals = np.array(j ['swiming'])[:,np.newaxis]\n",
    "    kde2  = KernelDensity(bandwidth=1).fit(vals)\n",
    "    swiming = partial(get_sample,kde2.sample)\n",
    "    vals = np.array(j ['laser-run'])[:,np.newaxis]\n",
    "    kde3  = KernelDensity(bandwidth=5).fit(vals)\n",
    "    laser_run = partial(get_sample,kde3.sample)\n",
    "    vals = np.array(j ['riding'])[:,np.newaxis]\n",
    "    kde4  = KernelDensity(bandwidth=10).fit(vals)\n",
    "    riding = partial(get_sample,kde3.sample)\n",
    "    athlete = Athlete(i,fencing,swiming,riding,laser_run)\n",
    "    athletes.append(athlete)"
   ]
  },
  {
   "cell_type": "code",
   "execution_count": 5,
   "metadata": {},
   "outputs": [],
   "source": [
    "tournament = Simulator(athletes)"
   ]
  },
  {
   "cell_type": "code",
   "execution_count": 6,
   "metadata": {},
   "outputs": [],
   "source": [
    "#tournament.run()"
   ]
  },
  {
   "cell_type": "code",
   "execution_count": 7,
   "metadata": {},
   "outputs": [],
   "source": [
    "#res = list(map(lambda x: x.name,tournament.winners))\n",
    "#for i in tournament.winners:\n",
    "#    print(i.name,i.points, i.time, i.handicapTime)"
   ]
  },
  {
   "cell_type": "code",
   "execution_count": 8,
   "metadata": {},
   "outputs": [],
   "source": [
    "#tournament.reset()"
   ]
  },
  {
   "cell_type": "code",
   "execution_count": 9,
   "metadata": {},
   "outputs": [],
   "source": [
    "results = {i.name:[] for i in athletes}\n",
    "nsim = 10000"
   ]
  },
  {
   "cell_type": "code",
   "execution_count": null,
   "metadata": {},
   "outputs": [],
   "source": [
    "for i in range(nsim):\n",
    "    tournament.run()\n",
    "    res = list(map(lambda x: x.name,tournament.winners))\n",
    "    tournament.reset()\n",
    "    for n,name in enumerate(res):\n",
    "        results[name].append(n)"
   ]
  },
  {
   "cell_type": "code",
   "execution_count": null,
   "metadata": {},
   "outputs": [],
   "source": [
    "confidences = {}\n",
    "\n",
    "for name, places in results.items():\n",
    "    mean = np.mean(places)\n",
    "    interval = stats.t.interval(0.95, len(places)-1, loc=mean, scale=stats.sem(places))\n",
    "    confidences[name]= {\n",
    "        'mean':mean,\n",
    "        'interval': interval,\n",
    "        'gap': mean-interval[0]\n",
    "    }"
   ]
  },
  {
   "cell_type": "code",
   "execution_count": null,
   "metadata": {},
   "outputs": [],
   "source": [
    "sorted_athletes = list(sorted(confidences.items(),key=lambda x: x[1]['mean']+x[1]['gap']))"
   ]
  },
  {
   "cell_type": "code",
   "execution_count": null,
   "metadata": {},
   "outputs": [],
   "source": [
    "fix_results = {}\n",
    "min_rank = math.floor(sorted_athletes[0][1]['mean'])\n",
    "for n,(name, data) in enumerate(sorted_athletes):\n",
    "    rank = int(math.floor(data['mean'])-min_rank) + 1\n",
    "    fix_results[name] = {\n",
    "        'rank': rank,\n",
    "        'gap': data['gap'],\n",
    "        'sorted_rank': n,\n",
    "        'nation': athletes_data[name]['nation']\n",
    "    }"
   ]
  },
  {
   "cell_type": "code",
   "execution_count": null,
   "metadata": {},
   "outputs": [],
   "source": [
    "json.dump(fix_results,open('men_pentathlon.json','w'), indent=2)"
   ]
  },
  {
   "cell_type": "code",
   "execution_count": null,
   "metadata": {},
   "outputs": [],
   "source": [
    "sorted_athletes"
   ]
  },
  {
   "cell_type": "code",
   "execution_count": null,
   "metadata": {},
   "outputs": [],
   "source": []
  }
 ],
 "metadata": {
  "kernelspec": {
   "display_name": "Python 3",
   "language": "python",
   "name": "python3"
  },
  "language_info": {
   "codemirror_mode": {
    "name": "ipython",
    "version": 3
   },
   "file_extension": ".py",
   "mimetype": "text/x-python",
   "name": "python",
   "nbconvert_exporter": "python",
   "pygments_lexer": "ipython3",
   "version": "3.8.5"
  }
 },
 "nbformat": 4,
 "nbformat_minor": 4
}
